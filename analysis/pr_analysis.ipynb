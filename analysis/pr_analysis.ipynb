{
 "cells": [
  {
   "cell_type": "code",
   "execution_count": 1,
   "id": "d6c9ae2d",
   "metadata": {},
   "outputs": [],
   "source": [
    "import json"
   ]
  },
  {
   "cell_type": "code",
   "execution_count": 5,
   "id": "c10c7865",
   "metadata": {},
   "outputs": [],
   "source": [
    "file_1 = \"../bon_result/con-prm-data.json\"\n",
    "file_2 = \"../bon_result/prm-data-selftest.json\"\n",
    "queries_1 = json.load(open(file_1))\n",
    "queries_2 = json.load(open(file_2))"
   ]
  },
  {
   "cell_type": "code",
   "execution_count": 23,
   "id": "eb86bb7a",
   "metadata": {},
   "outputs": [
    {
     "name": "stdout",
     "output_type": "stream",
     "text": [
      "Con loss reward: -0.8828125, Q loss reward: 0.003814697265625\n",
      "Con loss reward: -2.015625, Q loss reward: 0.1318359375\n",
      "Con loss reward: -1.328125, Q loss reward: 0.022216796875\n",
      " ----------------------\n",
      "Con loss reward: -0.8671875, Q loss reward: 0.0023193359375\n",
      "Con loss reward: -1.90625, Q loss reward: 0.08935546875\n",
      "Con loss reward: -1.1796875, Q loss reward: 0.01434326171875\n",
      " ----------------------\n"
     ]
    }
   ],
   "source": [
    "# \"query\": \"Below is an instruction that describes a task.\\nWrite a response that appropriately completes the request.\\n\\n### Instruction:\\nConvert the point $(0,3)$ in rectangular coordinates to polar coordinates.  Enter your answer in the form $(r,\\\\theta),$ where $r > 0$ and $0 \\\\le \\\\theta < 2 \\\\pi.$\\n\\n### Response: Let's think step by step\",\n",
    "# \"answer\": \"Step 1: The distance from the origin to the point $(0,3)$ is $\\\\sqrt{0^2+3^2}=\\\\sqrt{9}=3$. [PRM]\\nStep 2: The angle that the line connecting the origin and the point $(0,3)$ makes with the positive x-axis is $\\\\theta = \\\\arctan\\\\left(\\\\frac{3}{0}\\\\right) = \\\\arctan(0)=0$. Therefore, the point $(0,3)$ in polar coordinates is $\\\\boxed{(3,0)}$. The answer is: (3,0) [PRM]\",\n",
    "# \"reward\": -1.921875,\n",
    "# \"step_reward\": [\n",
    "#     -0.86328125,\n",
    "#     -1.921875,\n",
    "#     -1.8046875\n",
    "# ]\n",
    "n = 5000\n",
    "question_index = 0\n",
    "for s_1, s_2 in zip(queries_1[:n], queries_2[:n]):\n",
    "    if s_1[\"idx\"] == question_index:\n",
    "        # print(s_1[\"prompt\"])\n",
    "        question_index += 1\n",
    "    if s_1[\"idx\"] == s_2[\"idx\"] and s_2[\"reward\"] > 0:\n",
    "        # Split the answer base on [PRM], remove the empty part\n",
    "        s_1_answer = s_1[\"answer\"].split(\"[PRM]\")\n",
    "        # s_2_answer = s_2[\"answer\"].split(\"[PRM]\")[:-1]\n",
    "        # print(f\"Answer 1: {s_1_answer}\")\n",
    "        # assert len(s_1_answer) == len(s_2_answer), \"The number of answers do not match\"\n",
    "        # if len(s_1_answer) != len(s_1[\"step_reward\"]):\n",
    "        #     print(\"----------------------\")\n",
    "        #     print(\"The number of steps and rewards do not match\")\n",
    "        #     print(s_1_answer)\n",
    "        #     print(s_1[\"step_reward\"])\n",
    "        #     print(\"----------------------\")\n",
    "        #     continue\n",
    "        # Show the answer line by line with the two step_rewards at the end\n",
    "        for i in range(min(len(s_1_answer),len(s_1[\"step_reward\"]))):\n",
    "            # print(f\"{s_1_answer[i].strip()}, {s_1['step_reward'][i]}, {s_2['step_reward'][i]}\")\n",
    "            print(f\"Con loss reward: {s_1['step_reward'][i]}, Q loss reward: {s_2['step_reward'][i]}\")\n",
    "        print(\" ----------------------\")\n"
   ]
  }
 ],
 "metadata": {
  "kernelspec": {
   "display_name": "open-r1",
   "language": "python",
   "name": "python3"
  },
  "language_info": {
   "codemirror_mode": {
    "name": "ipython",
    "version": 3
   },
   "file_extension": ".py",
   "mimetype": "text/x-python",
   "name": "python",
   "nbconvert_exporter": "python",
   "pygments_lexer": "ipython3",
   "version": "3.11.11"
  }
 },
 "nbformat": 4,
 "nbformat_minor": 5
}
